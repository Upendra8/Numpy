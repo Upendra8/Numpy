{
 "cells": [
  {
   "cell_type": "code",
   "execution_count": null,
   "id": "7fe99f3a",
   "metadata": {},
   "outputs": [],
   "source": [
    "import re\n",
    "p=re.compile(r'\\bword\\b',re.I)"
   ]
  },
  {
   "cell_type": "code",
   "execution_count": null,
   "id": "37b06ae6",
   "metadata": {},
   "outputs": [],
   "source": [
    "m=p.findall('this word is belongs to sword')"
   ]
  },
  {
   "cell_type": "code",
   "execution_count": null,
   "id": "68997de2",
   "metadata": {},
   "outputs": [],
   "source": []
  },
  {
   "cell_type": "code",
   "execution_count": null,
   "id": "b8b4a1e9",
   "metadata": {},
   "outputs": [],
   "source": [
    "file=open('1.txt','r').read()"
   ]
  },
  {
   "cell_type": "code",
   "execution_count": null,
   "id": "e374958b",
   "metadata": {},
   "outputs": [],
   "source": []
  },
  {
   "cell_type": "code",
   "execution_count": null,
   "id": "4e02a0e5",
   "metadata": {},
   "outputs": [],
   "source": [
    "mr=re.compile(r'(?<=-)\\w+')\n",
    "s=mr.finditer(file)"
   ]
  },
  {
   "cell_type": "code",
   "execution_count": null,
   "id": "44b3fc10",
   "metadata": {},
   "outputs": [],
   "source": [
    "r=re.split('(\\W*)',file)"
   ]
  },
  {
   "cell_type": "code",
   "execution_count": null,
   "id": "c848cf4e",
   "metadata": {},
   "outputs": [],
   "source": [
    "r"
   ]
  },
  {
   "cell_type": "code",
   "execution_count": null,
   "id": "2ef61b2b",
   "metadata": {},
   "outputs": [],
   "source": []
  }
 ],
 "metadata": {
  "kernelspec": {
   "display_name": "Python 3 (ipykernel)",
   "language": "python",
   "name": "python3"
  },
  "language_info": {
   "codemirror_mode": {
    "name": "ipython",
    "version": 3
   },
   "file_extension": ".py",
   "mimetype": "text/x-python",
   "name": "python",
   "nbconvert_exporter": "python",
   "pygments_lexer": "ipython3",
   "version": "3.9.12"
  }
 },
 "nbformat": 4,
 "nbformat_minor": 5
}
